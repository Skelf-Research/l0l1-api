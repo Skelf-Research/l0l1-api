{
 "cells": [
  {
   "cell_type": "markdown",
   "metadata": {},
   "source": [
    "# l0l1 Jupyter Integration Example\n",
    "\n",
    "This notebook demonstrates how to use the l0l1 extension in Jupyter for SQL analysis and validation."
   ]
  },
  {
   "cell_type": "markdown",
   "metadata": {},
   "source": [
    "## 1. Load the l0l1 Extension\n",
    "\n",
    "First, load the l0l1 magic commands:"
   ]
  },
  {
   "cell_type": "code",
   "execution_count": null,
   "metadata": {},
   "outputs": [],
   "source": [
    "%load_ext l0l1.integrations.jupyter"
   ]
  },
  {
   "cell_type": "markdown",
   "metadata": {},
   "source": [
    "## 2. Configure l0l1 Settings\n",
    "\n",
    "Set up your workspace and AI provider:"
   ]
  },
  {
   "cell_type": "code",
   "execution_count": null,
   "metadata": {},
   "outputs": [],
   "source": [
    "%l0l1_config --workspace data_analysis --provider openai"
   ]
  },
  {
   "cell_type": "markdown",
   "metadata": {},
   "source": [
    "## 3. Check Current Status"
   ]
  },
  {
   "cell_type": "code",
   "execution_count": null,
   "metadata": {},
   "outputs": [],
   "source": [
    "%l0l1_status"
   ]
  },
  {
   "cell_type": "markdown",
   "metadata": {},
   "source": [
    "## 4. Analyze SQL Queries\n",
    "\n",
    "### Simple Query Analysis"
   ]
  },
  {
   "cell_type": "code",
   "execution_count": null,
   "metadata": {},
   "outputs": [],
   "source": [
    "%%l0l1_sql --validate --explain\n",
    "SELECT u.name, u.email, COUNT(o.id) as order_count\n",
    "FROM users u\n",
    "LEFT JOIN orders o ON u.id = o.user_id\n",
    "WHERE u.created_at > '2023-01-01'\n",
    "GROUP BY u.id, u.name, u.email\n",
    "ORDER BY order_count DESC;"
   ]
  },
  {
   "cell_type": "markdown",
   "metadata": {},
   "source": [
    "### PII Detection"
   ]
  },
  {
   "cell_type": "code",
   "execution_count": null,
   "metadata": {},
   "outputs": [],
   "source": [
    "%%l0l1_sql --check-pii --anonymize\n",
    "SELECT name, email, phone, ssn\n",
    "FROM customers\n",
    "WHERE email = 'john.doe@example.com'\n",
    "AND ssn = '123-45-6789';"
   ]
  },
  {
   "cell_type": "markdown",
   "metadata": {},
   "source": [
    "### Query Completion with Learning"
   ]
  },
  {
   "cell_type": "code",
   "execution_count": null,
   "metadata": {},
   "outputs": [],
   "source": [
    "%%l0l1_sql --complete\n",
    "SELECT name, email FROM users WHERE created_at >"
   ]
  },
  {
   "cell_type": "markdown",
   "metadata": {},
   "source": [
    "## 5. Interactive Widget\n",
    "\n",
    "Use the interactive widget for a more user-friendly experience:"
   ]
  },
  {
   "cell_type": "code",
   "execution_count": null,
   "metadata": {},
   "outputs": [],
   "source": [
    "from l0l1.integrations.jupyter.widgets import create_sql_validator\n",
    "\n",
    "# Create and display the SQL validator widget\n",
    "validator = create_sql_validator(workspace=\"data_analysis\")\n",
    "validator.display()"
   ]
  },
  {
   "cell_type": "markdown",
   "metadata": {},
   "source": [
    "## 6. Working with Schema Context"
   ]
  },
  {
   "cell_type": "code",
   "execution_count": null,
   "metadata": {},
   "outputs": [],
   "source": [
    "# Define your database schema\n",
    "schema = \"\"\"\n",
    "CREATE TABLE users (\n",
    "    id SERIAL PRIMARY KEY,\n",
    "    name VARCHAR(100) NOT NULL,\n",
    "    email VARCHAR(255) UNIQUE NOT NULL,\n",
    "    created_at TIMESTAMP DEFAULT NOW()\n",
    ");\n",
    "\n",
    "CREATE TABLE orders (\n",
    "    id SERIAL PRIMARY KEY,\n",
    "    user_id INTEGER REFERENCES users(id),\n",
    "    total DECIMAL(10,2) NOT NULL,\n",
    "    status VARCHAR(50) DEFAULT 'pending',\n",
    "    created_at TIMESTAMP DEFAULT NOW()\n",
    ");\n",
    "\"\"\"\n",
    "\n",
    "print(\"Schema defined for context-aware analysis\")"
   ]
  },
  {
   "cell_type": "code",
   "execution_count": null,
   "metadata": {},
   "outputs": [],
   "source": [
    "%%l0l1_sql --validate --explain --schema \"$schema\"\n",
    "SELECT \n",
    "    u.name,\n",
    "    u.email,\n",
    "    COUNT(o.id) as total_orders,\n",
    "    SUM(o.total) as total_spent,\n",
    "    AVG(o.total) as avg_order_value\n",
    "FROM users u\n",
    "LEFT JOIN orders o ON u.id = o.user_id\n",
    "WHERE o.status = 'completed'\n",
    "GROUP BY u.id, u.name, u.email\n",
    "HAVING COUNT(o.id) > 5\n",
    "ORDER BY total_spent DESC\n",
    "LIMIT 10;"
   ]
  },
  {
   "cell_type": "markdown",
   "metadata": {},
   "source": [
    "## 7. Learning from Successful Queries\n",
    "\n",
    "The l0l1 system automatically learns from successful queries to provide better suggestions in the future. You can check the learning statistics:"
   ]
  },
  {
   "cell_type": "code",
   "execution_count": null,
   "metadata": {},
   "outputs": [],
   "source": [
    "%l0l1_status  # This will show learning statistics"
   ]
  },
  {
   "cell_type": "markdown",
   "metadata": {},
   "source": [
    "## Tips for Best Results\n",
    "\n",
    "1. **Always provide schema context** when possible for more accurate analysis\n",
    "2. **Use consistent workspace names** to build up learning data\n",
    "3. **Enable PII detection** to avoid accidentally exposing sensitive information\n",
    "4. **Use the interactive widget** for exploratory analysis\n",
    "5. **Check validation results** before executing queries on production data"
   ]
  }
 ],
 "metadata": {
  "kernelspec": {
   "display_name": "Python 3",
   "language": "python",
   "name": "python3"
  },
  "language_info": {
   "codemirror_mode": {
    "name": "ipython",
    "version": 3
   },
   "file_extension": ".py",
   "mimetype": "text/x-python",
   "name": "python",
   "nbconvert_exporter": "python",
   "pygments_lexer": "ipython3",
   "version": "3.11.0"
  }
 },
 "nbformat": 4,
 "nbformat_minor": 4
}